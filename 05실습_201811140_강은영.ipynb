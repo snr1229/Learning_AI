{
  "nbformat": 4,
  "nbformat_minor": 0,
  "metadata": {
    "colab": {
      "name": "05실습_201811140_강은영.ipynb",
      "provenance": [],
      "collapsed_sections": [],
      "authorship_tag": "ABX9TyNErrl5OeULXlmzmVfeEcrY",
      "include_colab_link": true
    },
    "kernelspec": {
      "name": "python3",
      "display_name": "Python 3"
    },
    "language_info": {
      "name": "python"
    },
    "accelerator": "GPU"
  },
  "cells": [
    {
      "cell_type": "markdown",
      "metadata": {
        "id": "view-in-github",
        "colab_type": "text"
      },
      "source": [
        "<a href=\"https://colab.research.google.com/github/snr1229/Learning_AI/blob/main/05%EC%8B%A4%EC%8A%B5_201811140_%EA%B0%95%EC%9D%80%EC%98%81.ipynb\" target=\"_parent\"><img src=\"https://colab.research.google.com/assets/colab-badge.svg\" alt=\"Open In Colab\"/></a>"
      ]
    },
    {
      "cell_type": "markdown",
      "metadata": {
        "id": "zg4m8J0SAvbc"
      },
      "source": [
        "## 05 실습 CNN\n",
        "\n",
        "201811140 강은영\n",
        "\n",
        "Python 3\n",
        "\n",
        "Google Colab 사용 / GPU가속\n",
        "\n",
        " *(Colab에서는 python2를 지원하지 않아서 3 사용했습니다.)\n",
        "\n",
        "[GitHub url]\n",
        "https://github.com/snr1229/Learning_AI"
      ]
    },
    {
      "cell_type": "markdown",
      "metadata": {
        "id": "yBY8N74yCPIa"
      },
      "source": [
        "Load packages"
      ]
    },
    {
      "cell_type": "code",
      "metadata": {
        "id": "iCD8203gBGBb"
      },
      "source": [
        "import torch\n",
        "import torch.nn as nn\n",
        "import torchvision.datasets as dset\n",
        "import torchvision.transforms as transforms\n",
        "from torch.utils.data import DataLoader\n",
        "from torch.autograd import Variable\n",
        "import matplotlib.pyplot as plt\n",
        "%matplotlib inline"
      ],
      "execution_count": 27,
      "outputs": []
    },
    {
      "cell_type": "markdown",
      "metadata": {
        "id": "W7NRDRoNCT7V"
      },
      "source": [
        "MNIST train, test dataset 가져오기"
      ]
    },
    {
      "cell_type": "code",
      "metadata": {
        "id": "tEvLAtwxCI2w"
      },
      "source": [
        "mnist_train=dset.MNIST(\"\",train=True,transform=transforms.ToTensor(),\n",
        "                       target_transform=None, download=True)\n",
        "mnist_test=dset.MNIST(\"\",train=False,transform=transforms.ToTensor(),\n",
        "                       target_transform=None, download=True)"
      ],
      "execution_count": 28,
      "outputs": []
    },
    {
      "cell_type": "markdown",
      "metadata": {
        "id": "j4DVh4aICr7t"
      },
      "source": [
        "대략적인 데이터 형태 파악"
      ]
    },
    {
      "cell_type": "code",
      "metadata": {
        "colab": {
          "base_uri": "https://localhost:8080/",
          "height": 351
        },
        "id": "xRI4ST0MCrmB",
        "outputId": "b05cd5e2-022f-4e6d-def3-3450ea4c3685"
      },
      "source": [
        "print (\"mnist_train length :\", len(mnist_train))\n",
        "print (\"mnist_test length :\", len(mnist_test))\n",
        "\n",
        "#데이터 하나 형태 파악\n",
        "image, label = mnist_train.__getitem__(0)\n",
        "print (\"imgae data shape: \", image.size())\n",
        "print (\"label : \", label)\n",
        "\n",
        "#데이터 직접 그려보기\n",
        "img = image.numpy()\n",
        "plt.title(\"label : %d\" %label)\n",
        "plt.imshow(img[0], cmap='gray')\n",
        "plt.show()"
      ],
      "execution_count": 29,
      "outputs": [
        {
          "output_type": "stream",
          "text": [
            "mnist_train length : 60000\n",
            "mnist_test length : 10000\n",
            "imgae data shape:  torch.Size([1, 28, 28])\n",
            "label :  5\n"
          ],
          "name": "stdout"
        },
        {
          "output_type": "display_data",
          "data": {
            "image/png": "[encoded data removed]",
            "text/plain": [
              "<Figure size 432x288 with 1 Axes>"
            ]
          },
          "metadata": {
            "tags": [],
            "needs_background": "light"
          }
        }
      ]
    },
    {
      "cell_type": "markdown",
      "metadata": {
        "id": "C_uP_yO1Ex5R"
      },
      "source": [
        "MNIST data 띄워보기"
      ]
    },
    {
      "cell_type": "code",
      "metadata": {
        "colab": {
          "base_uri": "https://localhost:8080/",
          "height": 849
        },
        "id": "yi1z1Z60Exmo",
        "outputId": "ab1e90df-a4b8-4b3c-9bee-1d9a5ec5069b"
      },
      "source": [
        "print(mnist_train[0][1])\n",
        "print(mnist_train[0][0].size())\n",
        "\n",
        "for i in range(3):\n",
        "    img=mnist_train[i][0].numpy()\n",
        "    print(mnist_train[i][1])\n",
        "    plt.imshow(img[0],cmap='gray')\n",
        "    plt.show()"
      ],
      "execution_count": 30,
      "outputs": [
        {
          "output_type": "stream",
          "text": [
            "5\n",
            "torch.Size([1, 28, 28])\n",
            "5\n"
          ],
          "name": "stdout"
        },
        {
          "output_type": "display_data",
          "data": {
            "image/png": "[encoded data removed]",
            "text/plain": [
              "<Figure size 432x288 with 1 Axes>"
            ]
          },
          "metadata": {
            "tags": [],
            "needs_background": "light"
          }
        },
        {
          "output_type": "stream",
          "text": [
            "0\n"
          ],
          "name": "stdout"
        },
        {
          "output_type": "display_data",
          "data": {
            "image/png": "[encoded data removed]",
            "text/plain": [
              "<Figure size 432x288 with 1 Axes>"
            ]
          },
          "metadata": {
            "tags": [],
            "needs_background": "light"
          }
        },
        {
          "output_type": "stream",
          "text": [
            "4\n"
          ],
          "name": "stdout"
        },
        {
          "output_type": "display_data",
          "data": {
            "image/png": "[encoded data removed]",
            "text/plain": [
              "<Figure size 432x288 with 1 Axes>"
            ]
          },
          "metadata": {
            "tags": [],
            "needs_background": "light"
          }
        }
      ]
    },
    {
      "cell_type": "markdown",
      "metadata": {
        "id": "9wb8wtUPFOL0"
      },
      "source": [
        "convolution 하나 씌워보기"
      ]
    },
    {
      "cell_type": "code",
      "metadata": {
        "colab": {
          "base_uri": "https://localhost:8080/",
          "height": 814
        },
        "id": "G7FUz0OkFRVI",
        "outputId": "70a0ca62-4776-4681-9950-9e5823a7c4b3"
      },
      "source": [
        "#mnist의 첫번째 이미지, 라벨 가져오기\n",
        "image, label = mnist_train[0]\n",
        "\"\"\"\n",
        "view : tensor의 사이즈 조절.\n",
        "[1,28,28] -> [1,1,28,28] : 추가된 제일 앞 1은 batch_size를 뜻한다.\n",
        "\"\"\"\n",
        "image=image.view(-1, image.size()[0], image.size()[1], image.size()[2])\n",
        "print(image.size())\n",
        "\n",
        "print(label)\n",
        "\n",
        "\"\"\"\n",
        "convolutional filter 정의\n",
        "input이 흑백이여서 in_chaaneels = 1\n",
        "\"\"\"\n",
        "conv_layer=nn.Conv2d(in_channels=1,out_channels=3,kernel_size=3,padding=1)\n",
        "#image에 적용 ==> 이것이 feature map이 된다.\n",
        "output=conv_layer(Variable(image))\n",
        "print(output.size())\n",
        "\n",
        "for i in range(3):\n",
        "    plt.imshow(output[0,i,:,:].data.numpy(), cmap='gray')\n",
        "    plt.show()"
      ],
      "execution_count": 31,
      "outputs": [
        {
          "output_type": "stream",
          "text": [
            "torch.Size([1, 1, 28, 28])\n",
            "5\n",
            "torch.Size([1, 3, 28, 28])\n"
          ],
          "name": "stdout"
        },
        {
          "output_type": "display_data",
          "data": {
            "image/png": "[encoded data removed]",
            "text/plain": [
              "<Figure size 432x288 with 1 Axes>"
            ]
          },
          "metadata": {
            "tags": [],
            "needs_background": "light"
          }
        },
        {
          "output_type": "display_data",
          "data": {
            "image/png": "[encoded data removed]",
            "text/plain": [
              "<Figure size 432x288 with 1 Axes>"
            ]
          },
          "metadata": {
            "tags": [],
            "needs_background": "light"
          }
        },
        {
          "output_type": "display_data",
          "data": {
            "image/png": "[encoded data removed]",
            "text/plain": [
              "<Figure size 432x288 with 1 Axes>"
            ]
          },
          "metadata": {
            "tags": [],
            "needs_background": "light"
          }
        }
      ]
    },
    {
      "cell_type": "markdown",
      "metadata": {
        "id": "cADptQ1pHV2D"
      },
      "source": [
        "## CNN 만들기\n",
        "\n",
        "train, test data 가져오기"
      ]
    },
    {
      "cell_type": "code",
      "metadata": {
        "id": "E9ZFx7nNHWK4"
      },
      "source": [
        "import numpy as np\n",
        "import torch.optim as optim\n",
        "\n",
        "batch_size = 16\n",
        "learning_rate = 0.0002\n",
        "num_epoch = 10"
      ],
      "execution_count": 32,
      "outputs": []
    },
    {
      "cell_type": "code",
      "metadata": {
        "id": "l5dDEk_uHx-A"
      },
      "source": [
        "train_loader = torch.utils.data.DataLoader(list(mnist_train)[:batch_size*100], batch_size=batch_size,\n",
        "                                           shuffle=True, num_workers=2,\n",
        "                                           drop_last=True)\n",
        "test_loader = torch.utils.data.DataLoader((mnist_test), batch_size=batch_size,\n",
        "                                          shuffle=False, num_workers=2,\n",
        "                                          drop_last=True)"
      ],
      "execution_count": 33,
      "outputs": []
    },
    {
      "cell_type": "markdown",
      "metadata": {
        "id": "fY6tq-HBIq_q"
      },
      "source": [
        "CNN 클래스 만들기 (모델 만들기)"
      ]
    },
    {
      "cell_type": "code",
      "metadata": {
        "id": "UXdpTxALIo7W"
      },
      "source": [
        "class CNN(nn.Module):\n",
        "    def __init__(self):\n",
        "        super(CNN, self).__init__()\n",
        "        self.layer=nn.Sequential(\n",
        "            nn.Conv2d(1, 16, 5, padding=2),\n",
        "            nn.ReLU(),\n",
        "\n",
        "            nn.Conv2d(16, 32, 5, padding=2),\n",
        "            nn.ReLU(),\n",
        "            nn.MaxPool2d(2,2),\n",
        "\n",
        "            nn.Conv2d(32, 64, 5, padding=2),\n",
        "            nn.ReLU(),\n",
        "            nn.MaxPool2d(2,2)\n",
        "        )\n",
        "        self.fc_layer=nn.Sequential(\n",
        "            nn.Linear(64*7*7, 100),\n",
        "            nn.ReLU(),\n",
        "            nn.Linear(100,10)\n",
        "        )\n",
        "\n",
        "    def forward(self, x):\n",
        "       out = self.layer(x)\n",
        "       out = out.view(batch_size, -1)\n",
        "       out = self.fc_layer(out)\n",
        "       return out\n",
        "\n",
        "model = CNN().cuda()"
      ],
      "execution_count": 39,
      "outputs": []
    },
    {
      "cell_type": "code",
      "metadata": {
        "colab": {
          "base_uri": "https://localhost:8080/"
        },
        "id": "6JM10UplJSrH",
        "outputId": "a006ec9e-87bf-4ab6-b0aa-11516e8cc4a4"
      },
      "source": [
        "#Check parameters\n",
        "for parameter in model.parameters():\n",
        "    print(parameter.shape)"
      ],
      "execution_count": 40,
      "outputs": [
        {
          "output_type": "stream",
          "text": [
            "torch.Size([16, 1, 5, 5])\n",
            "torch.Size([16])\n",
            "torch.Size([32, 16, 5, 5])\n",
            "torch.Size([32])\n",
            "torch.Size([64, 32, 5, 5])\n",
            "torch.Size([64])\n",
            "torch.Size([100, 3136])\n",
            "torch.Size([100])\n",
            "torch.Size([10, 100])\n",
            "torch.Size([10])\n"
          ],
          "name": "stdout"
        }
      ]
    },
    {
      "cell_type": "code",
      "metadata": {
        "id": "8gxfXc_lMjOC"
      },
      "source": [
        "#loss function, optimizer 선언\n",
        "loss_func = nn.CrossEntropyLoss()\n",
        "optimizer = torch.optim.Adam(model.parameters(), lr=learning_rate)"
      ],
      "execution_count": 41,
      "outputs": []
    },
    {
      "cell_type": "markdown",
      "metadata": {
        "id": "LMmgE1msMz2o"
      },
      "source": [
        "Optimization"
      ]
    },
    {
      "cell_type": "code",
      "metadata": {
        "colab": {
          "base_uri": "https://localhost:8080/"
        },
        "id": "rdV224hKM0F1",
        "outputId": "411f1ee7-b124-4084-e525-7b79afd4c457"
      },
      "source": [
        "for i in range(num_epoch):\n",
        "    for j, [image, label] in enumerate(train_loader):\n",
        "        x = Variable(image).cuda()\n",
        "        y_ = Variable(label).cuda()\n",
        "\n",
        "        optimizer.zero_grad()\n",
        "        output=model.forward(x)\n",
        "        loss = loss_func(output, y_)\n",
        "        loss.backward() #gradient 계산\n",
        "        optimizer.step()\n",
        "\n",
        "        if j%50==0:\n",
        "            print(loss,j,i)\n"
      ],
      "execution_count": 44,
      "outputs": [
        {
          "output_type": "stream",
          "text": [
            "tensor(2.3057, device='cuda:0', grad_fn=<NllLossBackward>) 0 0\n",
            "tensor(2.1396, device='cuda:0', grad_fn=<NllLossBackward>) 50 0\n",
            "tensor(0.7844, device='cuda:0', grad_fn=<NllLossBackward>) 0 1\n",
            "tensor(0.4487, device='cuda:0', grad_fn=<NllLossBackward>) 50 1\n",
            "tensor(0.3017, device='cuda:0', grad_fn=<NllLossBackward>) 0 2\n",
            "tensor(0.1467, device='cuda:0', grad_fn=<NllLossBackward>) 50 2\n",
            "tensor(0.3928, device='cuda:0', grad_fn=<NllLossBackward>) 0 3\n",
            "tensor(0.0715, device='cuda:0', grad_fn=<NllLossBackward>) 50 3\n",
            "tensor(0.0244, device='cuda:0', grad_fn=<NllLossBackward>) 0 4\n",
            "tensor(0.3096, device='cuda:0', grad_fn=<NllLossBackward>) 50 4\n",
            "tensor(0.3206, device='cuda:0', grad_fn=<NllLossBackward>) 0 5\n",
            "tensor(0.4611, device='cuda:0', grad_fn=<NllLossBackward>) 50 5\n",
            "tensor(0.1973, device='cuda:0', grad_fn=<NllLossBackward>) 0 6\n",
            "tensor(0.0865, device='cuda:0', grad_fn=<NllLossBackward>) 50 6\n",
            "tensor(0.0401, device='cuda:0', grad_fn=<NllLossBackward>) 0 7\n",
            "tensor(0.3761, device='cuda:0', grad_fn=<NllLossBackward>) 50 7\n",
            "tensor(0.0812, device='cuda:0', grad_fn=<NllLossBackward>) 0 8\n",
            "tensor(0.0470, device='cuda:0', grad_fn=<NllLossBackward>) 50 8\n",
            "tensor(0.0284, device='cuda:0', grad_fn=<NllLossBackward>) 0 9\n",
            "tensor(0.0194, device='cuda:0', grad_fn=<NllLossBackward>) 50 9\n"
          ],
          "name": "stdout"
        }
      ]
    },
    {
      "cell_type": "code",
      "metadata": {
        "id": "EFCXUd_uPyyj"
      },
      "source": [
        "#모델 저장시키기\n",
        "torch.save(model, 'mycnn_model_%d.pkl'%num_epoch)"
      ],
      "execution_count": 51,
      "outputs": []
    },
    {
      "cell_type": "code",
      "metadata": {
        "colab": {
          "base_uri": "https://localhost:8080/"
        },
        "id": "SqLKHUURP8PU",
        "outputId": "d849c516-67ed-4430-cbb3-6aa03003f588"
      },
      "source": [
        "try :\n",
        "    model==torch.load('mycnn_model_10.pkl')\n",
        "    print(\"model restored\")\n",
        "except :\n",
        "    print(\"model not resotred\")"
      ],
      "execution_count": 52,
      "outputs": [
        {
          "output_type": "stream",
          "text": [
            "model restored\n"
          ],
          "name": "stdout"
        }
      ]
    },
    {
      "cell_type": "code",
      "metadata": {
        "id": "5NHF3g4EQZKt"
      },
      "source": [
        "def ComputeAccr(dloader, imodel):\n",
        "    correct = 0\n",
        "    total =0\n",
        "\n",
        "    for j, [imgs, labels] in enumerate(dloader):\n",
        "        img = Variable(imgs).cuda()\n",
        "        label = Variable(labels).cuda()\n",
        "\n",
        "        output = imodel.forward(img)\n",
        "        _, output_index = torch.max(output, 1)\n",
        "\n",
        "        total += label.size(0)\n",
        "        correct += (output_index == label).sum().float()\n",
        "    print(\"Accuracy of Test Data : {}\".format(100*correct/total))"
      ],
      "execution_count": 48,
      "outputs": []
    },
    {
      "cell_type": "code",
      "metadata": {
        "colab": {
          "base_uri": "https://localhost:8080/"
        },
        "id": "Ue6LPQsUQYwx",
        "outputId": "55c4e8e7-903e-4854-fe65-3aabbeb86480"
      },
      "source": [
        "ComputeAccr(test_loader, model)"
      ],
      "execution_count": 49,
      "outputs": [
        {
          "output_type": "stream",
          "text": [
            "Accuracy of Test Data : 95.08999633789062\n"
          ],
          "name": "stdout"
        }
      ]
    },
    {
      "cell_type": "markdown",
      "metadata": {
        "id": "Ej2O964xNJHu"
      },
      "source": [
        ""
      ]
    }
  ]
}