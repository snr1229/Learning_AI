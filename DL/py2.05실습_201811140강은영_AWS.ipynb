{
 "cells": [
  {
   "cell_type": "markdown",
   "id": "82bd02b0",
   "metadata": {},
   "source": [
    "## 05 실습 CNN\n",
    "\n",
    "201811140 강은영\n",
    "\n",
    "\n",
    "[GitHub url] github에는 colab을 이용하여 구현한 것으로 upload 되어있습니다.\n",
    "\n",
    "https://github.com/snr1229/Learning_AI "
   ]
  },
  {
   "cell_type": "markdown",
   "id": "80ea4300",
   "metadata": {},
   "source": [
    "Load packages"
   ]
  },
  {
   "cell_type": "code",
   "execution_count": null,
   "id": "4665c902",
   "metadata": {},
   "outputs": [],
   "source": [
    "import torch\n",
    "import torch.nn as nn\n",
    "import torchvision.datasets as dset\n",
    "import torchvision.transforms as transforms\n",
    "from torch.utils.data import DataLoader\n",
    "from torch.autograd import Variable\n",
    "import matplotlib.pyplot as plt\n",
    "%matplotlib inline"
   ]
  },
  {
   "cell_type": "markdown",
   "id": "0288bf2b",
   "metadata": {},
   "source": [
    "MNIST train, test dataset 가져오기"
   ]
  },
  {
   "cell_type": "code",
   "execution_count": null,
   "id": "28ae9b08",
   "metadata": {},
   "outputs": [],
   "source": [
    "mnist_train=dset.MNIST(\"\",train=True,transform=transforms.ToTensor(),\n",
    "                       target_transform=None, download=True)\n",
    "mnist_test=dset.MNIST(\"\",train=False,transform=transforms.ToTensor(),\n",
    "                       target_transform=None, download=True)"
   ]
  },
  {
   "cell_type": "markdown",
   "id": "2d0240f1",
   "metadata": {},
   "source": [
    "대략적인 데이터 형태 파악"
   ]
  },
  {
   "cell_type": "code",
   "execution_count": 3,
   "id": "a068461b",
   "metadata": {},
   "outputs": [
    {
     "name": "stdout",
     "output_type": "stream",
     "text": [
      "('mnist_train length :', 60000)\n",
      "('mnist_test length :', 10000)\n",
      "('imgae data shape: ', torch.Size([1, 28, 28]))\n",
      "('label : ', 5)\n"
     ]
    },
    {
     "data": {
      "image/png": "[encoded data removed]",
      "text/plain": [
       "<Figure size 432x288 with 1 Axes>"
      ]
     },
     "metadata": {
      "needs_background": "light"
     },
     "output_type": "display_data"
    }
   ],
   "source": [
    "print (\"mnist_train length :\", len(mnist_train))\n",
    "print (\"mnist_test length :\", len(mnist_test))\n",
    "\n",
    "#데이터 하나 형태 파악\n",
    "image, label = mnist_train.__getitem__(0)\n",
    "print (\"imgae data shape: \", image.size())\n",
    "print (\"label : \", label)\n",
    "\n",
    "#데이터 직접 그려보기\n",
    "img = image.numpy()\n",
    "plt.title(\"label : %d\" %label)\n",
    "plt.imshow(img[0], cmap='gray')\n",
    "plt.show()"
   ]
  },
  {
   "cell_type": "markdown",
   "id": "593ef846",
   "metadata": {},
   "source": [
    "MNIST data 띄워보기"
   ]
  },
  {
   "cell_type": "code",
   "execution_count": 4,
   "id": "3a742284",
   "metadata": {},
   "outputs": [
    {
     "name": "stdout",
     "output_type": "stream",
     "text": [
      "5\n",
      "torch.Size([1, 28, 28])\n",
      "5\n"
     ]
    },
    {
     "data": {
      "image/png": "[encoded data removed]",
      "text/plain": [
       "<Figure size 432x288 with 1 Axes>"
      ]
     },
     "metadata": {
      "needs_background": "light"
     },
     "output_type": "display_data"
    },
    {
     "name": "stdout",
     "output_type": "stream",
     "text": [
      "0\n"
     ]
    },
    {
     "data": {
      "image/png": "[encoded data removed]",
      "text/plain": [
       "<Figure size 432x288 with 1 Axes>"
      ]
     },
     "metadata": {
      "needs_background": "light"
     },
     "output_type": "display_data"
    },
    {
     "name": "stdout",
     "output_type": "stream",
     "text": [
      "4\n"
     ]
    },
    {
     "data": {
      "image/png": "[encoded data removed]",
      "text/plain": [
       "<Figure size 432x288 with 1 Axes>"
      ]
     },
     "metadata": {
      "needs_background": "light"
     },
     "output_type": "display_data"
    }
   ],
   "source": [
    "print(mnist_train[0][1])\n",
    "print(mnist_train[0][0].size())\n",
    "\n",
    "for i in range(3):\n",
    "    img=mnist_train[i][0].numpy()\n",
    "    print(mnist_train[i][1])\n",
    "    plt.imshow(img[0],cmap='gray')\n",
    "    plt.show()"
   ]
  },
  {
   "cell_type": "markdown",
   "id": "092834f6",
   "metadata": {},
   "source": [
    "convolution 하나 씌워보기"
   ]
  },
  {
   "cell_type": "code",
   "execution_count": 5,
   "id": "5ca862fc",
   "metadata": {},
   "outputs": [
    {
     "name": "stdout",
     "output_type": "stream",
     "text": [
      "torch.Size([1, 1, 28, 28])\n",
      "5\n",
      "torch.Size([1, 3, 28, 28])\n"
     ]
    },
    {
     "data": {
      "image/png": "[encoded data removed]",
      "text/plain": [
       "<Figure size 432x288 with 1 Axes>"
      ]
     },
     "metadata": {
      "needs_background": "light"
     },
     "output_type": "display_data"
    },
    {
     "data": {
      "image/png": "[encoded data removed]",
      "text/plain": [
       "<Figure size 432x288 with 1 Axes>"
      ]
     },
     "metadata": {
      "needs_background": "light"
     },
     "output_type": "display_data"
    },
    {
     "data": {
      "image/png": "[encoded data removed]",
      "text/plain": [
       "<Figure size 432x288 with 1 Axes>"
      ]
     },
     "metadata": {
      "needs_background": "light"
     },
     "output_type": "display_data"
    }
   ],
   "source": [
    "#mnist의 첫번째 이미지, 라벨 가져오기\n",
    "image, label = mnist_train[0]\n",
    "\"\"\"\n",
    "view : tensor의 사이즈 조절.\n",
    "[1,28,28] -> [1,1,28,28] : 추가된 제일 앞 1은 batch_size를 뜻한다.\n",
    "\"\"\"\n",
    "image=image.view(-1, image.size()[0], image.size()[1], image.size()[2])\n",
    "print(image.size())\n",
    "\n",
    "print(label)\n",
    "\n",
    "\"\"\"\n",
    "convolutional filter 정의\n",
    "input이 흑백이여서 in_chaaneels = 1\n",
    "\"\"\"\n",
    "conv_layer=nn.Conv2d(in_channels=1,out_channels=3,kernel_size=3,padding=1)\n",
    "#image에 적용 ==> 이것이 feature map이 된다.\n",
    "output=conv_layer(Variable(image))\n",
    "print(output.size())\n",
    "\n",
    "for i in range(3):\n",
    "    plt.imshow(output[0,i,:,:].data.numpy(), cmap='gray')\n",
    "    plt.show()"
   ]
  },
  {
   "cell_type": "markdown",
   "id": "b9fcb89a",
   "metadata": {},
   "source": [
    "## CNN 만들기\n",
    "\n",
    "train, test data 가져오기"
   ]
  },
  {
   "cell_type": "code",
   "execution_count": 6,
   "id": "fd3a0e1b",
   "metadata": {},
   "outputs": [],
   "source": [
    "import numpy as np\n",
    "import torch.optim as optim\n",
    "\n",
    "batch_size = 16\n",
    "learning_rate = 0.0002\n",
    "num_epoch = 10"
   ]
  },
  {
   "cell_type": "code",
   "execution_count": 7,
   "id": "a0d8b9bc",
   "metadata": {},
   "outputs": [],
   "source": [
    "train_loader = torch.utils.data.DataLoader(list(mnist_train)[:batch_size*100], batch_size=batch_size,\n",
    "                                           shuffle=True, num_workers=2,\n",
    "                                           drop_last=True)\n",
    "test_loader = torch.utils.data.DataLoader((mnist_test), batch_size=batch_size,\n",
    "                                          shuffle=False, num_workers=2,\n",
    "                                          drop_last=True)"
   ]
  },
  {
   "cell_type": "markdown",
   "id": "b142452a",
   "metadata": {},
   "source": [
    "CNN 클래스 만들기 (모델 만들기)"
   ]
  },
  {
   "cell_type": "code",
   "execution_count": 8,
   "id": "3d88c7a0",
   "metadata": {},
   "outputs": [],
   "source": [
    "class CNN(nn.Module):\n",
    "    def __init__(self):\n",
    "        super(CNN, self).__init__()\n",
    "        self.layer=nn.Sequential(\n",
    "            nn.Conv2d(1, 16, 5, padding=2),\n",
    "            nn.ReLU(),\n",
    "\n",
    "            nn.Conv2d(16, 32, 5, padding=2),\n",
    "            nn.ReLU(),\n",
    "            nn.MaxPool2d(2,2),\n",
    "\n",
    "            nn.Conv2d(32, 64, 5, padding=2),\n",
    "            nn.ReLU(),\n",
    "            nn.MaxPool2d(2,2)\n",
    "        )\n",
    "        self.fc_layer=nn.Sequential(\n",
    "            nn.Linear(64*7*7, 100),\n",
    "            nn.ReLU(),\n",
    "            nn.Linear(100,10)\n",
    "        )\n",
    "\n",
    "    def forward(self, x):\n",
    "       out = self.layer(x)\n",
    "       out = out.view(batch_size, -1)\n",
    "       out = self.fc_layer(out)\n",
    "       return out\n",
    "\n",
    "model = CNN()#.cuda()"
   ]
  },
  {
   "cell_type": "code",
   "execution_count": 10,
   "id": "53cc77d3",
   "metadata": {},
   "outputs": [
    {
     "name": "stdout",
     "output_type": "stream",
     "text": [
      "torch.Size([16, 1, 5, 5])\n",
      "torch.Size([16])\n",
      "torch.Size([32, 16, 5, 5])\n",
      "torch.Size([32])\n",
      "torch.Size([64, 32, 5, 5])\n",
      "torch.Size([64])\n",
      "torch.Size([100, 3136])\n",
      "torch.Size([100])\n",
      "torch.Size([10, 100])\n",
      "torch.Size([10])\n"
     ]
    }
   ],
   "source": [
    "#Check parameters\n",
    "for parameter in model.parameters():\n",
    "    print(parameter.shape)"
   ]
  },
  {
   "cell_type": "code",
   "execution_count": 11,
   "id": "6b7e62c7",
   "metadata": {},
   "outputs": [],
   "source": [
    "#loss function, optimizer 선언\n",
    "loss_func = nn.CrossEntropyLoss()\n",
    "optimizer = torch.optim.Adam(model.parameters(), lr=learning_rate)"
   ]
  },
  {
   "cell_type": "markdown",
   "id": "0e3d763e",
   "metadata": {},
   "source": [
    "Optimization"
   ]
  },
  {
   "cell_type": "code",
   "execution_count": 12,
   "id": "4e757391",
   "metadata": {},
   "outputs": [
    {
     "name": "stdout",
     "output_type": "stream",
     "text": [
      "(tensor(2.3143, grad_fn=<NllLossBackward>), 0, 0)\n",
      "(tensor(1.9230, grad_fn=<NllLossBackward>), 50, 0)\n",
      "(tensor(0.9559, grad_fn=<NllLossBackward>), 0, 1)\n",
      "(tensor(0.8617, grad_fn=<NllLossBackward>), 50, 1)\n",
      "(tensor(0.2522, grad_fn=<NllLossBackward>), 0, 2)\n",
      "(tensor(0.1674, grad_fn=<NllLossBackward>), 50, 2)\n",
      "(tensor(0.3297, grad_fn=<NllLossBackward>), 0, 3)\n",
      "(tensor(0.3139, grad_fn=<NllLossBackward>), 50, 3)\n",
      "(tensor(0.1658, grad_fn=<NllLossBackward>), 0, 4)\n",
      "(tensor(0.2447, grad_fn=<NllLossBackward>), 50, 4)\n",
      "(tensor(0.4538, grad_fn=<NllLossBackward>), 0, 5)\n",
      "(tensor(0.2369, grad_fn=<NllLossBackward>), 50, 5)\n",
      "(tensor(0.1622, grad_fn=<NllLossBackward>), 0, 6)\n",
      "(tensor(0.0373, grad_fn=<NllLossBackward>), 50, 6)\n",
      "(tensor(0.1561, grad_fn=<NllLossBackward>), 0, 7)\n",
      "(tensor(0.1906, grad_fn=<NllLossBackward>), 50, 7)\n",
      "(tensor(0.0070, grad_fn=<NllLossBackward>), 0, 8)\n",
      "(tensor(0.0983, grad_fn=<NllLossBackward>), 50, 8)\n",
      "(tensor(0.0211, grad_fn=<NllLossBackward>), 0, 9)\n",
      "(tensor(0.0034, grad_fn=<NllLossBackward>), 50, 9)\n"
     ]
    }
   ],
   "source": [
    "for i in range(num_epoch):\n",
    "    for j, [image, label] in enumerate(train_loader):\n",
    "        x = Variable(image)#.cuda()\n",
    "        y_ = Variable(label)#.cuda()\n",
    "\n",
    "        optimizer.zero_grad()\n",
    "        output=model.forward(x)\n",
    "        loss = loss_func(output, y_)\n",
    "        loss.backward() #gradient 계산\n",
    "        optimizer.step()\n",
    "\n",
    "        if j%50==0:\n",
    "            print(loss,j,i)\n"
   ]
  },
  {
   "cell_type": "code",
   "execution_count": 13,
   "id": "ece7af85",
   "metadata": {},
   "outputs": [
    {
     "name": "stderr",
     "output_type": "stream",
     "text": [
      "/home/ec2-user/anaconda3/envs/pytorch_p27/lib/python2.7/site-packages/torch/serialization.py:360: UserWarning: Couldn't retrieve source code for container of type CNN. It won't be checked for correctness upon loading.\n",
      "  \"type \" + obj.__name__ + \". It won't be checked \"\n"
     ]
    }
   ],
   "source": [
    "#모델 저장시키기\n",
    "torch.save(model, 'mycnn_model_%d.pkl'%num_epoch)"
   ]
  },
  {
   "cell_type": "code",
   "execution_count": 14,
   "id": "1a48b4d1",
   "metadata": {},
   "outputs": [
    {
     "name": "stdout",
     "output_type": "stream",
     "text": [
      "model restored\n"
     ]
    }
   ],
   "source": [
    "try :\n",
    "    model==torch.load('mycnn_model_10.pkl')\n",
    "    print(\"model restored\")\n",
    "except :\n",
    "    print(\"model not resotred\")"
   ]
  },
  {
   "cell_type": "code",
   "execution_count": 18,
   "id": "863394f8",
   "metadata": {},
   "outputs": [],
   "source": [
    "def ComputeAccr(dloader, imodel):\n",
    "    correct = 0\n",
    "    total =0\n",
    "\n",
    "    for j, [imgs, labels] in enumerate(dloader):\n",
    "        img = Variable(imgs)#.cuda()\n",
    "        label = Variable(labels)#.cuda()\n",
    "\n",
    "        output = imodel.forward(img)\n",
    "        _, output_index = torch.max(output, 1)\n",
    "\n",
    "        total += label.size(0)\n",
    "        correct += (output_index == label).sum().float()\n",
    "    print(\"Accuracy of Test Data : {}\".format(100*correct/total))"
   ]
  },
  {
   "cell_type": "code",
   "execution_count": 19,
   "id": "b0359d4b",
   "metadata": {},
   "outputs": [
    {
     "name": "stdout",
     "output_type": "stream",
     "text": [
      "Accuracy of Test Data : 94.8600006104\n"
     ]
    }
   ],
   "source": [
    "ComputeAccr(test_loader, model)"
   ]
  }
 ],
 "metadata": {
  "kernelspec": {
   "display_name": "conda_pytorch_p27",
   "language": "python",
   "name": "conda_pytorch_p27"
  },
  "language_info": {
   "codemirror_mode": {
    "name": "ipython",
    "version": 2
   },
   "file_extension": ".py",
   "mimetype": "text/x-python",
   "name": "python",
   "nbconvert_exporter": "python",
   "pygments_lexer": "ipython2",
   "version": "2.7.16"
  }
 },
 "nbformat": 4,
 "nbformat_minor": 5
}
